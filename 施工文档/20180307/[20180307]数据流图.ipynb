{
 "cells": [
  {
   "cell_type": "code",
   "execution_count": 32,
   "metadata": {
    "collapsed": true
   },
   "outputs": [],
   "source": [
    "import graphviz as gv\n",
    "from graphviz import render"
   ]
  },
  {
   "cell_type": "code",
   "execution_count": 88,
   "metadata": {
    "collapsed": false
   },
   "outputs": [
    {
     "data": {
      "text/plain": [
       "'Digraph.gv.pdf'"
      ]
     },
     "execution_count": 88,
     "metadata": {},
     "output_type": "execute_result"
    }
   ],
   "source": [
    "from graphviz import Digraph\n",
    "\n",
    "dfd = Digraph(comment='Data Flow Diagram')\n",
    "dfd.attr('node', shape='box')\n",
    "dfd.node('nodeSRA', 'Raw SRA files')\n",
    "\n",
    "dfd.attr('node', shape=\"ellipse\")\n",
    "dfd.node('nodeFastq1', 'Fastq 1')\n",
    "dfd.node('nodeFastq2', 'Fastq 2')\n",
    "dfd.edge('nodeSRA', 'nodeFastq1', label='SRAToFastq')\n",
    "dfd.edge('nodeSRA', 'nodeFastq2', label='SRAToFastq')\n",
    "\n",
    "dfd.node('nodeQC', 'FastQC reports')\n",
    "dfd.edge('nodeFastq1', 'nodeQC', label='FastQC')\n",
    "dfd.edge('nodeFastq2', 'nodeQC', label='FastQC' )\n",
    "\n",
    "dfd.attr('node', shape='box')\n",
    "dfd.node('nodeBowtieIdx','Bowtie index')\n",
    "dfd.node('nodeGene', 'gtf')\n",
    "\n",
    "\n",
    "dfd.attr('node', shape=\"ellipse\")\n",
    "dfd.node('nodeBowtieBam', 'Alignment Results: Bowtie Bam')\n",
    "dfd.edge('nodeFastq1', 'nodeBowtieBam',label='Bowtie',constraint='false')\n",
    "dfd.edge('nodeFastq2', 'nodeBowtieBam', label='Bowtie', constraint='false')\n",
    "dfd.edge('nodeBowtieIdx', 'nodeBowtieBam',label='Bowtie',constraint='false')\n",
    "dfd.edge('nodeGene', 'nodeBowtieBam',label='Bowtie' )\n",
    "\n",
    "\n",
    "dfd.node('nodeQuant', 'Assembly and Quantify Expression')\n",
    "dfd.edge('nodeBowtieBam', 'nodeQuant', label='CufflinksQuantification')\n",
    "\n",
    "dfd.render(view=True)"
   ]
  },
  {
   "cell_type": "markdown",
   "metadata": {},
   "source": [
    "## 宋绍铭Smart-seq数据流图"
   ]
  },
  {
   "cell_type": "code",
   "execution_count": 18,
   "metadata": {
    "collapsed": false
   },
   "outputs": [
    {
     "name": "stdout",
     "output_type": "stream",
     "text": [
      "// Data Flow Diagram\n",
      "digraph {\n",
      "\tnode [color=gray73 style=filled]\n",
      "\tsra [label=\"SRA Files\" color=lawngreen shape=box]\n",
      "\tdump [label=FastqDump color=lawngreen]\n",
      "\tqc [label=FastQC color=lawngreen]\n",
      "\tqc_report [label=\"Quality Control Report\" color=lawngreen shape=signature]\n",
      "\tsra -> dump\n",
      "\tdump -> qc [label=\"Fastq files\"]\n",
      "\tqc -> qc_report\n",
      "\thisat [label=Hisat2 color=lawngreen]\n",
      "\thisat_idx [label=\"Hisat2 Index\" color=lawngreen shape=box]\n",
      "\tcufflinks [label=Cufflinks color=lawngreen]\n",
      "\tgtf [label=GTF color=lawngreen shape=box]\n",
      "\thisat_idx -> hisat\n",
      "\tdump -> hisat [label=\"Fastq files\"]\n",
      "\tgtf -> cufflinks\n",
      "\thisat -> cufflinks\n",
      "\tclean [label=\"Data Cleaning\"]\n",
      "\treducedim [label=\"Dimension Reduction\"]\n",
      "\tclust [label=Clustering]\n",
      "\tcufflinks -> clean\n",
      "\tclean -> reducedim\n",
      "\treducedim -> clust\n",
      "}\n"
     ]
    },
    {
     "data": {
      "text/plain": [
       "'Digraph.gv.pdf'"
      ]
     },
     "execution_count": 18,
     "metadata": {},
     "output_type": "execute_result"
    }
   ],
   "source": [
    "from graphviz import Digraph\n",
    "\n",
    "g = Digraph(comment=\"Data Flow Diagram\")\n",
    "g.node_attr.update(color='gray73', style='filled')\n",
    "\n",
    "# Reading and Quality control\n",
    "g.node(name=\"sra\",  label=\"SRA Files\", color=\"lawngreen\", shape=\"box\")\n",
    "g.node(name=\"dump\",   label=\"FastqDump\", color=\"lawngreen\")\n",
    "g.node(name=\"qc\", label=\"FastQC\", color=\"lawngreen\")\n",
    "g.node(name=\"qc_report\",  label=\"Quality Control Report\", shape=\"signature\",color=\"lawngreen\")\n",
    "g.edge(\"sra\", \"dump\")\n",
    "g.edge(\"dump\", \"qc\", label=\"Fastq files\")\n",
    "g.edge(\"qc\",\"qc_report\")\n",
    "\n",
    "# Mapping, Assembling, and Quantification\n",
    "g.node(name=\"hisat\",  label=\"Hisat2\", color=\"lawngreen\")\n",
    "g.node(name=\"hisat_idx\",  label=\"Hisat2 Index\", shape=\"box\", color=\"lawngreen\")\n",
    "g.node(name=\"cufflinks\", label=\"Cufflinks\", color=\"lawngreen\")\n",
    "g.node(name=\"gtf\", label=\"GTF\", shape=\"box\", color=\"lawngreen\")\n",
    "g.edge(\"hisat_idx\", \"hisat\")\n",
    "g.edge(\"dump\", \"hisat\", label=\"Fastq files\")\n",
    "g.edge(\"gtf\", \"cufflinks\")\n",
    "g.edge(\"hisat\",\"cufflinks\")\n",
    "\n",
    "# Downstream Analysis\n",
    "g.node(name=\"clean\", label=\"Data Cleaning\")\n",
    "g.node(name=\"reducedim\", label=\"Dimension Reduction\")\n",
    "g.node(name=\"clust\",label=\"Clustering\")\n",
    "g.edge(\"cufflinks\",\"clean\")\n",
    "g.edge(\"clean\",\"reducedim\")\n",
    "g.edge(\"reducedim\",\"clust\")\n",
    "\n",
    "\n",
    "print(g.source) \n",
    "g.render(view=True)"
   ]
  },
  {
   "cell_type": "markdown",
   "metadata": {},
   "source": [
    "## 张威scATAC-seq流程"
   ]
  },
  {
   "cell_type": "code",
   "execution_count": 2,
   "metadata": {
    "collapsed": false
   },
   "outputs": [
    {
     "name": "stdout",
     "output_type": "stream",
     "text": [
      "// Data Flow Diagram\n",
      "digraph {\n",
      "\tnode [color=gray73 style=filled]\n",
      "\tfq [label=\"Fastq Files\" color=lawngreen shape=box]\n",
      "\tqc [label=FastQC shape=ellipse]\n",
      "\tqc_report [label=\"Quality Control Report\" shape=signature]\n",
      "\tfq -> qc\n",
      "\tqc -> qc_report\n",
      "\tgetadapter [label=\"Adapter Extraction\" color=lawngreen shape=ellipse]\n",
      "\trmadapter [label=\"Adapter Removal\" color=lawngreen shape=ellipse]\n",
      "\tfq -> getadapter\n",
      "\tgetadapter -> rmadapter [label=\"Adapter List\"]\n",
      "\tfq -> rmadapter\n",
      "\ttruncfq [label=\"Truncated Fastq\" shape=box]\n",
      "\trmadapter -> truncfq\n",
      "}\n"
     ]
    },
    {
     "data": {
      "text/plain": [
       "'Digraph.gv.pdf'"
      ]
     },
     "execution_count": 2,
     "metadata": {},
     "output_type": "execute_result"
    }
   ],
   "source": [
    "from graphviz import Digraph\n",
    "\n",
    "g = Digraph(comment=\"Data Flow Diagram\")\n",
    "g.node_attr.update(color='gray73', style='filled')\n",
    "\n",
    "# Reading and Quality control\n",
    "g.node(name=\"fq\",         label=\"Fastq Files\", color=\"lawngreen\", shape=\"box\")\n",
    "g.node(name=\"qc\",         label=\"FastQC\",      shape=\"ellipse\")\n",
    "g.node(name=\"qc_report\",  label=\"Quality Control Report\",         shape=\"signature\")\n",
    "g.edge(\"fq\", \"qc\")\n",
    "g.edge(\"qc\",\"qc_report\")\n",
    "\n",
    "g.node(name=\"getadapter\", label=\"Adapter Extraction\", shape=\"ellipse\", color=\"lawngreen\")\n",
    "g.node(name=\"rmadapter\",  label=\"Adapter Removal\",    shape=\"ellipse\", color=\"lawngreen\")\n",
    "g.edge(\"fq\", \"getadapter\")\n",
    "g.edge(\"getadapter\", \"rmadapter\",  label=\"Adapter List\")\n",
    "g.edge(\"fq\", \"rmadapter\")\n",
    "g.node(name=\"truncfq\", label=\"Truncated Fastq\", shape=\"box\")\n",
    "g.edge(\"rmadapter\", \"truncfq\")\n",
    "\n",
    "print(g.source) \n",
    "g.render(view=True)"
   ]
  },
  {
   "cell_type": "code",
   "execution_count": null,
   "metadata": {
    "collapsed": false
   },
   "outputs": [],
   "source": []
  },
  {
   "cell_type": "code",
   "execution_count": null,
   "metadata": {
    "collapsed": true
   },
   "outputs": [],
   "source": []
  }
 ],
 "metadata": {
  "kernelspec": {
   "display_name": "Python 3",
   "language": "python",
   "name": "python3"
  },
  "language_info": {
   "codemirror_mode": {
    "name": "ipython",
    "version": 3
   },
   "file_extension": ".py",
   "mimetype": "text/x-python",
   "name": "python",
   "nbconvert_exporter": "python",
   "pygments_lexer": "ipython3",
   "version": "3.6.0"
  }
 },
 "nbformat": 4,
 "nbformat_minor": 2
}
